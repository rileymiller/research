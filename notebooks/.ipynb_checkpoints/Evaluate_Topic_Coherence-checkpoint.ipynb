{
 "cells": [
  {
   "cell_type": "markdown",
   "metadata": {},
   "source": [
    "# Topic Coherence Evaluation"
   ]
  },
  {
   "cell_type": "code",
   "execution_count": 10,
   "metadata": {},
   "outputs": [],
   "source": [
    "from csv import reader\n",
    "\n",
    "import re\n",
    "\n",
    "import gensim\n",
    "from gensim.utils import simple_preprocess\n",
    "import gensim.corpora as corpora\n",
    "from gensim.models import CoherenceModel\n",
    "\n",
    "from matplotlib.ticker import FuncFormatter\n",
    "from matplotlib import pyplot as plt\n",
    "\n",
    "def visualize_coherence(save_path, coherence_score, title, metric_label, color, start, limit, step):\n",
    "        \"\"\"\n",
    "        Function to display num_topics - topic coherence coherence\n",
    "\n",
    "        Parameters:\n",
    "        ----------\n",
    "        save_path : path to save image\n",
    "        coherence_score : list of coherence scores\n",
    "        title : graph title\n",
    "        metric_label : topic coherence metric label\n",
    "        color : color of plot\n",
    "        start : starting index of topics\n",
    "        limit : end index of topics\n",
    "        step : step for topics\n",
    "        Returns:\n",
    "        -------\n",
    "        \"\"\"\n",
    "\n",
    "        print('INFO: finished generating models, creating evalution visualization')  \n",
    "        # Show graph\n",
    "        x = range(start, limit, step)\n",
    "        plt.plot(x, coherence_score, linestyle='none', marker='o', color=color)\n",
    "        \n",
    "        plt.suptitle(title)\n",
    "        plt.xlabel(\"Number of Topics\")\n",
    "        plt.ylabel(\"Coherence Score\")\n",
    "        plt.legend((metric_label), loc='best', borderpad=1)\n",
    "        \n",
    "        plt.savefig(save_path)\n",
    "        \n",
    "        plt.figure(num=None, figsize=(10, 6), dpi=100, facecolor='w', edgecolor='k')\n",
    "\n",
    "        plt.show()\n",
    "\n",
    "\n",
    "\n",
    "# function to tokenize the unstructured text\n",
    "def sent_to_words(sentences):\n",
    "    for sentence in sentences:\n",
    "        yield(gensim.utils.simple_preprocess(str(sentence), deacc=True))  # deacc=True removes punctuations    \n",
    "\n",
    "'''\n",
    "fn to get topic coherence from a list of topics\n",
    "\n",
    "topics: list of topics\n",
    "texts: the raw text corpus\n",
    "id2word: the gensim corpora dictionary\n",
    "coherence: the gensim coherence metric\n",
    "'''\n",
    "def get_coherence_score(topics, texts, id2word, coherence='umass'):\n",
    "    \n",
    "    corpus = [id2word.doc2bow(tok) for tok in texts]\n",
    "\n",
    "    coherence_model = CoherenceModel(topics=topics, texts=texts, dictionary=id2word, coherence=coherence)\n",
    "    \n",
    "    coherence_model_score = coherence_model.get_coherence()\n",
    "    return coherence_model_score\n",
    "\n",
    "\n",
    "def generate_coherence_score(data_file_path, topic_path_prefix, num_topics_list):\n",
    "    '''\n",
    "    generate_coherence_score\n",
    "\n",
    "    this fn will generate a tuple of the umass and uci coherence scores over a number of topics\n",
    "    for a topic model\n",
    "\n",
    "    @data_file_path: the path to the raw data that will be used to score the coherence of a model\n",
    "\n",
    "    @topic_path_prefix: this paramater is a string that represents the prefix that will be used to open the topics for each model: \n",
    "        needs to fit the pattern ^'../results/lsi/descriptions/lsi-description-'$, the suffix\n",
    "        is the same for all of the model results and will be appended with a hardcoded string \n",
    "        <num_topic>topics.txt\n",
    "\n",
    "    @num_topics_list: this parameter is a list of integers for the number of topics that were generated for a models results\n",
    "\n",
    "    '''\n",
    "    with open(data_file_path) as d:\n",
    "        data_lines = []\n",
    "        \n",
    "        # break the data file up into tokens\n",
    "        for line in d.readlines():\n",
    "            line = re.sub('\\n', '', line)\n",
    "            data_lines.append(line)\n",
    "        \n",
    "\n",
    "\n",
    "        umass_coherence = []\n",
    "        uci_coherence = []\n",
    "\n",
    "        for k in num_topics_list:\n",
    "\n",
    "            with open(topic_path_prefix + str(k) + 'topics.txt') as f:\n",
    "                \n",
    "                topics = []\n",
    "                for line in f.readlines():\n",
    "                    words = []\n",
    "                    for word in line.split():\n",
    "                        word = re.sub(',', '', word)\n",
    "                        words.append(word)\n",
    "                    topics.append(words)\n",
    "\n",
    "                data_tokens = list(sent_to_words(data_lines))\n",
    "\n",
    "                # generate id2word dictionary of bigrams\n",
    "                id2word = corpora.Dictionary(data_tokens)\n",
    "\n",
    "\n",
    "                # generate corpus from bigrams\n",
    "                corpus = [id2word.doc2bow(tok) for tok in data_tokens]\n",
    "                umass = get_coherence_score(topics, data_tokens, id2word, 'u_mass')\n",
    "                uci = get_coherence_score(topics, data_tokens, id2word, 'c_uci')\n",
    "\n",
    "                umass_coherence.append(umass)\n",
    "                uci_coherence.append(uci)\n",
    "        print('INFO finished generating coherence ' +\n",
    "              ' scores for raw data: {} and model results: {}'.format(data_file_path, topic_path_prefix))\n",
    "        return (umass_coherence, uci_coherence)\n"
   ]
  },
  {
   "cell_type": "markdown",
   "metadata": {},
   "source": [
    "# Model Evaluation\n",
    "\n",
    "This section will analyze the performance of the different topic models"
   ]
  },
  {
   "cell_type": "code",
   "execution_count": 2,
   "metadata": {},
   "outputs": [
    {
     "name": "stdout",
     "output_type": "stream",
     "text": [
      "INFO: generating description coherence scores for lsi\n",
      "INFO finished generating coherence  scores for raw data: datasets/parsed_full_descriptions.txt and model results: ../results/lsi/descriptions/lsi-description-\n",
      "([-5.859218389198672, -4.984199885524811, -6.463798966187267, -5.370840153383402, -5.50472850739282, -6.197304829912619, -7.093451609706482, -7.416171175002037, -8.00826951199404, -8.43862590251067, -8.833071545405746, -8.870775741487849, -9.790131650344838, -9.749046920089425, -10.413961778872778, -10.697492507042126, -10.873294342901117, -11.292425756134497, -11.394802195954421], [-3.0870547217721507, -2.5455266509139913, -3.72998111443993, -2.8002704424961853, -3.0681807862679507, -3.892032373033842, -4.734611643405903, -5.036511610875596, -5.461923310020906, -5.7530884529040875, -6.17918330722027, -6.191108232961799, -6.880143141814902, -6.872615323737267, -7.567446176648042, -7.795144712439777, -7.913459532377886, -8.359394760971599, -8.325340406699086])\n",
      "\n",
      "\n",
      "INFO: generating title coherence scores for lsi\n",
      "INFO finished generating coherence  scores for raw data: datasets/parsed_full_titles.txt and model results: ../results/lsi/titles/lsi-title-\n",
      "([-9.687151440959152, -10.902765442458666, -12.440769041514812, -13.247225674202143, -12.343406423645833, -13.305417195523797, -13.58096272808115, -13.9800257843783, -14.416809375211798, -14.632218787981628, -15.159882881424329, -15.408648303645782, -15.473174078214607, -15.885825893020604, -16.045879169815777, -15.921331218935244, -16.202349099199893, -16.366327267092764, -16.500247743453887], [-5.974854120673966, -7.083611907336063, -8.592985574740904, -9.33400895314552, -8.254106627211174, -9.381051219938282, -9.475069628443219, -9.874230806280856, -10.233609775854667, -10.434007748107495, -10.88602266038209, -11.100781373094426, -11.11410410997893, -11.498471589041829, -11.632258684332072, -11.504181353201867, -11.714023159895921, -11.847270424320428, -11.921825558261583])\n"
     ]
    }
   ],
   "source": [
    "desc_title_num_topics = [ 10, 15, 20, 25, 30, 35, 40, 45, 50, 55, 60, 65, 70, 75, 80, 85, 90, 95, 100 ]\n",
    "\n",
    "print('INFO: generating description coherence scores for lsi')\n",
    "lsi_description_tc =  generate_coherence_score(\n",
    "                        'datasets/parsed_full_descriptions.txt',\n",
    "                        '../results/lsi/descriptions/lsi-description-',\n",
    "                        desc_title_num_topics\n",
    "                      )\n",
    "\n",
    "print(lsi_description_tc, end='\\n\\n\\n')\n",
    "\n",
    "print('INFO: generating title coherence scores for lsi')\n",
    "lsi_title_tc =     generate_coherence_score(\n",
    "                        'datasets/parsed_full_titles.txt',\n",
    "                        '../results/lsi/titles/lsi-title-',\n",
    "                        desc_title_num_topics\n",
    "                    )\n",
    "print(lsi_title_tc)"
   ]
  },
  {
   "cell_type": "markdown",
   "metadata": {},
   "source": [
    "# Visualize LSI Topic Coherence"
   ]
  },
  {
   "cell_type": "code",
   "execution_count": 11,
   "metadata": {},
   "outputs": [
    {
     "name": "stdout",
     "output_type": "stream",
     "text": [
      "INFO: finished generating models, creating evalution visualization\n"
     ]
    },
    {
     "data": {
      "image/png": "[encoded data removed]",
      "text/plain": [
       "<Figure size 432x288 with 1 Axes>"
      ]
     },
     "metadata": {
      "needs_background": "light"
     },
     "output_type": "display_data"
    },
    {
     "data": {
      "text/plain": [
       "<Figure size 1000x600 with 0 Axes>"
      ]
     },
     "metadata": {},
     "output_type": "display_data"
    }
   ],
   "source": [
    "visualize_coherence(\n",
    "    'results_figures/lsi/description/lsi-umass-description.png',\n",
    "    lsi_description_tc[0],\n",
    "    'LSI Description - UMass Topic Coherence',\n",
    "    ['UMass'],\n",
    "    'green',\n",
    "    10,\n",
    "    105,\n",
    "    5\n",
    ")\n"
   ]
  },
  {
   "cell_type": "code",
   "execution_count": 13,
   "metadata": {},
   "outputs": [
    {
     "name": "stdout",
     "output_type": "stream",
     "text": [
      "INFO: finished generating models, creating evalution visualization\n"
     ]
    },
    {
     "data": {
      "image/png": "[encoded data removed]",
      "text/plain": [
       "<Figure size 432x288 with 1 Axes>"
      ]
     },
     "metadata": {
      "needs_background": "light"
     },
     "output_type": "display_data"
    },
    {
     "data": {
      "text/plain": [
       "<Figure size 1000x600 with 0 Axes>"
      ]
     },
     "metadata": {},
     "output_type": "display_data"
    }
   ],
   "source": [
    "visualize_coherence(\n",
    "    'results_figures/lsi/description/lsi-uci-description.png',\n",
    "    lsi_description_tc[1],\n",
    "    'LSI Description - UCI Topic Coherence',\n",
    "    ['UCI'],\n",
    "    'brown',\n",
    "    10,\n",
    "    105,\n",
    "    5\n",
    ")"
   ]
  },
  {
   "cell_type": "code",
   "execution_count": null,
   "metadata": {},
   "outputs": [],
   "source": []
  }
 ],
 "metadata": {
  "kernelspec": {
   "display_name": "Python 3",
   "language": "python",
   "name": "python3"
  },
  "language_info": {
   "codemirror_mode": {
    "name": "ipython",
    "version": 3
   },
   "file_extension": ".py",
   "mimetype": "text/x-python",
   "name": "python",
   "nbconvert_exporter": "python",
   "pygments_lexer": "ipython3",
   "version": "3.7.6"
  }
 },
 "nbformat": 4,
 "nbformat_minor": 4
}
